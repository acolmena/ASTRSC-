{
 "cells": [
  {
   "cell_type": "markdown",
   "metadata": {},
   "source": [
    "# Whiteist Array\n",
    "\n",
    "This document contains the list of words that ASTRSC will not flag. "
   ]
  },
  {
   "cell_type": "code",
   "execution_count": 1,
   "metadata": {},
   "outputs": [],
   "source": [
    "original = [\"African Studies\", \"African Union\", \"South Africa\", \"South African\", \"South Africans\", \"West Africa\", \"North Africa\", \"East Africa\", \"Southern Africa\"]\n",
    "au_and_regional_orgs = [\"African Union\", \"East African Community\", \"Southern African Development Community\", \"Pan African University\"]\n",
    "variations = [\"Southern Africa\", \"Southern African\", \"East African\", \"Eastern Africa\", \"North African\", \"Northern Africa\", \"West African\", \"Western Africa\"]\n",
    "others = [\"African American\"]\n",
    "\n",
    "\n"
   ]
  },
  {
   "cell_type": "code",
   "execution_count": 2,
   "metadata": {},
   "outputs": [
    {
     "data": {
      "text/plain": [
       "['African studies',\n",
       " 'African Union',\n",
       " 'South Africa',\n",
       " 'South African',\n",
       " 'South Africans',\n",
       " 'West Africa',\n",
       " 'North Africa',\n",
       " 'East Africa',\n",
       " 'Southern Africa']"
      ]
     },
     "execution_count": 2,
     "metadata": {},
     "output_type": "execute_result"
    }
   ],
   "source": [
    "whitelistArray"
   ]
  },
  {
   "cell_type": "code",
   "execution_count": null,
   "metadata": {},
   "outputs": [],
   "source": []
  }
 ],
 "metadata": {
  "kernelspec": {
   "display_name": "Python 3",
   "language": "python",
   "name": "python3"
  },
  "language_info": {
   "codemirror_mode": {
    "name": "ipython",
    "version": 3
   },
   "file_extension": ".py",
   "mimetype": "text/x-python",
   "name": "python",
   "nbconvert_exporter": "python",
   "pygments_lexer": "ipython3",
   "version": "3.7.9"
  }
 },
 "nbformat": 4,
 "nbformat_minor": 4
}
