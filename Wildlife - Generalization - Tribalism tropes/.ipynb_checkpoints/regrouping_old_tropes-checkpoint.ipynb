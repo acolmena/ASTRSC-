{
 "cells": [
  {
   "cell_type": "markdown",
   "metadata": {},
   "source": [
    "# ASTRSC: Analyzing Tropes\n",
    "\n",
    "## Overview\n",
    "\n",
    "After thorough discussion, the Astrsc team has expressed interest to prioritize the following four tropes to provide them with clearly demarkated definitions and categories. This notebook will explore the existing words under each of these tropes, their strengths, and their limitations.\n",
    "\n",
    "**Target Tropes**:\n",
    "1. Generalization\n",
    "2. Wildlife and Nature\n",
    "3. Tribalism\n",
    "4. Conflict and violence\n",
    "\n",
    "_Note_: This notebook losely follows [this article](https://towardsdatascience.com/end-to-end-topic-modeling-in-python-latent-dirichlet-allocation-lda-35ce4ed6b3e0).\n",
    "\n",
    "## Part I: Prepare Inputs\n",
    "\n",
    "### Map Target Tropes to Existng Tropes\n",
    "\n",
    "Here are the existing tropes:"
   ]
  },
  {
   "cell_type": "code",
   "execution_count": 1,
   "metadata": {},
   "outputs": [],
   "source": [
    "archaismArray = [\"primitive\", \"archaic\", \"savage\", \"traditional\" , \"ancestral\", \"wild\", \"barbaric\", \"underdeveloped\", \"exotic\", \"third world\", \"witchcraft\"]\n",
    "\n",
    "tribalismArray = [\"tribe\", \"tribal\", \"tribalism\", \"tribalistic\", \"ethnic\", \"ethnicity\"]\n",
    "\n",
    "corruptionArray = [\"regime\",\"regimes\",\"dictator\",\"dictators\",\"strongman\",\"strongmen\",\"corrupt\",\"corruption\"]\n",
    "\n",
    "generalizationArray = [\"africa\",\"african\", \"subsaharan africa\",\"sub-saharan africa\",\"continent\"]\n",
    "\n",
    "lightArray = [\"sunset\",\"sunrise\",\"sunshine\",\"sunlight\",\"sun\",\"glow\",\"light\"]\n",
    "\n",
    "natureArray = [\"savannah\",\"rain forest\",\"jungle\",\"trees\",\"insect\",\"lion\",\"rhino\",\"hunt\",\"big game\"]\n",
    "\n",
    "darknessArray = [\"darkness\",\"dark continent\",\"darkest\",\"bleak\",\"hopeless\",\"devastated\",\"ridden\",\"famine\",\"hunger\",\"starvation\",\"disease\",\"epidemic\",\"child soldier\",\"hiv\",\"ebola\",\"rebels\",\"guerilla\",\"war\",\"conflict\",\"armed\",\"weapon\",\"pirate\",\"attack\",\"kill\",\"death\",\"dead\",\"murder\",\"fear\",\"menace\",\"drought\",\"smuggled weapons\",\"smugglers\",\"crime\",\"gang\",\"poor\",\"desperate\",\"ransom\",\"execution\",\"shot\",\"death\",\"pain\",\"suffer\",\"civil war\",\"chaos\",\"refugees\",\"gun\",\"gunshot\"]\n",
    "\n"
   ]
  },
  {
   "cell_type": "markdown",
   "metadata": {},
   "source": [
    "We will map the target tropes to these existing tropes as follows:\n",
    "\n",
    "\n",
    "| Target      | Existing |\n",
    "| ----------- | ----------- |\n",
    "| Conflict      | Part of darknessArray       |\n",
    "| Generalization   | generalizationArray        |\n",
    "| Tribalism  | tribalismArray     |\n",
    "| Wildlife  |  natureArray      |\n",
    "\n",
    "Here are the resulting tropes in dictionary format for ease of operation in python."
   ]
  },
  {
   "cell_type": "code",
   "execution_count": 2,
   "metadata": {},
   "outputs": [],
   "source": [
    "conflictArray = {\"war\",\"conflict\",\"armed\",\"weapon\",\"pirate\",\"attack\",\"kill\",\"death\",\"dead\",\"murder\",\"fear\",\"menace\",\"smuggled weapons\",\"smugglers\",\"crime\",\"gang\",\"ransom\",\"execution\",\"shot\",\"death\",\"pain\",\"suffer\",\"civil war\",\"chaos\",\"gun\",\"gunshot\"}\n",
    "generalizationArray = {\"africa\",\"african\", \"subsaharan africa\",\"sub-saharan africa\",\"continent\"}\n",
    "tribalismArray = {\"tribe\", \"tribal\", \"tribalism\", \"tribalistic\", \"ethnic\", \"ethnicity\"}\n",
    "wildlifeArray = {\"savannah\",\"rain forest\",\"jungle\",\"trees\",\"insect\",\"lion\",\"rhino\",\"hunt\",\"big game\"}\n"
   ]
  },
  {
   "cell_type": "code",
   "execution_count": 3,
   "metadata": {},
   "outputs": [],
   "source": [
    "# Let's store all the tropes in a dictionary so that we can easily iterate over them later\n",
    "\n",
    "all_tropes_dict = {\"conflictArray\":conflictArray, \"generalizationArray\":generalizationArray, \"tribalismArray\":tribalismArray, \"wildlifeArray\":wildlifeArray}\n",
    "\n",
    "#all_tropes_dict = {\"generalizationArray\":generalizationArray, \"tribalismArray\":tribalismArray, \"wildlifeArray\":wildlifeArray}\n"
   ]
  },
  {
   "cell_type": "code",
   "execution_count": 7,
   "metadata": {},
   "outputs": [
    {
     "data": {
      "text/plain": [
       "{'generalizationArray': {'africa',\n",
       "  'african',\n",
       "  'continent',\n",
       "  'sub-saharan africa',\n",
       "  'subsaharan africa'}}"
      ]
     },
     "execution_count": 7,
     "metadata": {},
     "output_type": "execute_result"
    }
   ],
   "source": []
  },
  {
   "cell_type": "code",
   "execution_count": 25,
   "metadata": {},
   "outputs": [
    {
     "name": "stdout",
     "output_type": "stream",
     "text": [
      "5 words under generalizationArray\n",
      "6 words under tribalismArray\n",
      "9 words under wildlifeArray\n"
     ]
    }
   ],
   "source": [
    "# Let's count how many words are under each trope\n",
    "for trope in all_tropes_dict.keys():\n",
    "    print(len(all_tropes_dict[trope]), \"words under\", str(trope))"
   ]
  },
  {
   "cell_type": "code",
   "execution_count": 26,
   "metadata": {},
   "outputs": [],
   "source": [
    "# Let's create a collection of all the words in all the tropes so that we can identify emerging topics amongst them\n",
    "all_words = []\n",
    "for trope in all_tropes_dict.values():\n",
    "    for word in trope:\n",
    "        all_words.append(word)\n"
   ]
  },
  {
   "cell_type": "markdown",
   "metadata": {},
   "source": [
    "## Part II: Initiate LDA Topic Modeling"
   ]
  },
  {
   "cell_type": "code",
   "execution_count": 12,
   "metadata": {},
   "outputs": [],
   "source": [
    "# Load the library with the CountVectorizer method\n",
    "from sklearn.feature_extraction.text import CountVectorizer\n",
    "import numpy as np\n",
    "import matplotlib.pyplot as plt\n",
    "import seaborn as sns\n",
    "sns.set_style('whitegrid')\n",
    "%matplotlib inline"
   ]
  },
  {
   "cell_type": "markdown",
   "metadata": {},
   "source": [
    "#### Let's plot and check the top 10 most repeated words"
   ]
  },
  {
   "cell_type": "code",
   "execution_count": 27,
   "metadata": {},
   "outputs": [
    {
     "data": {
      "image/png": "[encoded data removed]",
      "text/plain": [
       "<Figure size 1080x667.491 with 1 Axes>"
      ]
     },
     "metadata": {
      "needs_background": "light"
     },
     "output_type": "display_data"
    }
   ],
   "source": [
    "def plot_10_most_common_words(count_data, count_vectorizer):\n",
    "    import matplotlib.pyplot as plt\n",
    "    words = count_vectorizer.get_feature_names()\n",
    "    total_counts = np.zeros(len(words))\n",
    "    for t in count_data:\n",
    "        total_counts+=t.toarray()[0]\n",
    "    \n",
    "    count_dict = (zip(words, total_counts))\n",
    "    count_dict = sorted(count_dict, key=lambda x:x[1], reverse=True)[0:10]\n",
    "    words = [w[0] for w in count_dict]\n",
    "    counts = [w[1] for w in count_dict]\n",
    "    x_pos = np.arange(len(words)) \n",
    "    \n",
    "    plt.figure(2, figsize=(15, 15/1.6180))\n",
    "    plt.subplot(title='10 most common words')\n",
    "    sns.set_context(\"notebook\", font_scale=1.25, rc={\"lines.linewidth\": 2.5})\n",
    "    sns.barplot(x_pos, counts, palette='husl')\n",
    "    plt.xticks(x_pos, words, rotation=90) \n",
    "    plt.xlabel('words')\n",
    "    plt.ylabel('counts')\n",
    "    plt.show()# Initialise the count vectorizer with the English stop words\n",
    "count_vectorizer = CountVectorizer(stop_words='english')# Fit and transform the processed titles\n",
    "count_data = count_vectorizer.fit_transform(all_words)# Visualise the 10 most common words\n",
    "plot_10_most_common_words(count_data, count_vectorizer)"
   ]
  },
  {
   "cell_type": "markdown",
   "metadata": {},
   "source": [
    "Notice how the top 10 words are the ones we expected such as \"africa\"\n",
    "\n",
    "#### Now, let's identify emerging topics amongst the words"
   ]
  },
  {
   "cell_type": "code",
   "execution_count": 30,
   "metadata": {},
   "outputs": [
    {
     "name": "stdout",
     "output_type": "stream",
     "text": [
      "Topics found via LDA:\n",
      "\n",
      "Topic #0:\n",
      "game big ethnicity insect tribe african continent tribalistic hunt lion ethnic jungle tribal savannah tribalism rhino trees africa forest rain\n",
      "\n",
      "Topic #1:\n",
      "africa sub saharan subsaharan rain forest trees rhino tribalism savannah tribal jungle ethnic lion hunt tribalistic continent african tribe insect\n"
     ]
    }
   ],
   "source": [
    "import warnings\n",
    "warnings.simplefilter(\"ignore\", DeprecationWarning) # Load the LDA model from sk-learn\n",
    "from sklearn.decomposition import LatentDirichletAllocation as LDA\n",
    "\n",
    "\n",
    "# Helper function\n",
    "def print_topics(model, count_vectorizer, n_top_words):\n",
    "    words = count_vectorizer.get_feature_names()\n",
    "    for topic_idx, topic in enumerate(model.components_):\n",
    "        print(\"\\nTopic #%d:\" % topic_idx)\n",
    "        print(\" \".join([words[i]\n",
    "                        for i in topic.argsort()[:-n_top_words - 1:-1]]))\n",
    "\n",
    "# Tweak the two parameters below\n",
    "number_topics = 2\n",
    "number_words = 20 # Create and fit the LDA model\n",
    "lda = LDA(n_components=number_topics, n_jobs=-1)  \n",
    "\n",
    "lda.fit(count_data)# Print the topics found by the LDA model\n",
    "print(\"Topics found via LDA:\")\n",
    "print_topics(lda, count_vectorizer, number_words)"
   ]
  },
  {
   "cell_type": "code",
   "execution_count": 29,
   "metadata": {},
   "outputs": [
    {
     "name": "stderr",
     "output_type": "stream",
     "text": [
      "/Users/tsiontesfaye/anaconda3/lib/python3.7/site-packages/pyLDAvis/_prepare.py:257: FutureWarning: Sorting because non-concatenation axis is not aligned. A future version\n",
      "of pandas will change to not sort by default.\n",
      "\n",
      "To accept the future behavior, pass 'sort=False'.\n",
      "\n",
      "To retain the current behavior and silence the warning, pass 'sort=True'.\n",
      "\n",
      "  return pd.concat([default_term_info] + list(topic_dfs))\n"
     ]
    },
    {
     "data": {
      "text/html": [
       "\n",
       "<link rel=\"stylesheet\" type=\"text/css\" href=\"https://cdn.rawgit.com/bmabey/pyLDAvis/files/ldavis.v1.0.0.css\">\n",
       "\n",
       "\n",
       "<div id=\"ldavis_el775431123018871846548219172\"></div>\n",
       "<script type=\"text/javascript\">\n",
       "\n",
       "var ldavis_el775431123018871846548219172_data = {\"mdsDat\": {\"x\": [-0.10437554888838273, 0.07111460747279892, 0.03326094141558378], \"y\": [-0.017644710020125354, -0.0641564269080454, 0.08180113692817073], \"topics\": [1, 2, 3], \"cluster\": [1, 1, 1], \"Freq\": [40.26503986190635, 33.351187362420305, 26.383772775673336]}, \"tinfo\": {\"Category\": [\"Default\", \"Default\", \"Default\", \"Default\", \"Default\", \"Default\", \"Default\", \"Default\", \"Default\", \"Default\", \"Default\", \"Default\", \"Default\", \"Default\", \"Default\", \"Default\", \"Default\", \"Default\", \"Default\", \"Default\", \"Default\", \"Default\", \"Default\", \"Topic1\", \"Topic1\", \"Topic1\", \"Topic1\", \"Topic1\", \"Topic1\", \"Topic1\", \"Topic1\", \"Topic1\", \"Topic1\", \"Topic1\", \"Topic1\", \"Topic1\", \"Topic1\", \"Topic1\", \"Topic1\", \"Topic1\", \"Topic1\", \"Topic1\", \"Topic1\", \"Topic1\", \"Topic1\", \"Topic1\", \"Topic2\", \"Topic2\", \"Topic2\", \"Topic2\", \"Topic2\", \"Topic2\", \"Topic2\", \"Topic2\", \"Topic2\", \"Topic2\", \"Topic2\", \"Topic2\", \"Topic2\", \"Topic2\", \"Topic2\", \"Topic2\", \"Topic2\", \"Topic2\", \"Topic2\", \"Topic2\", \"Topic2\", \"Topic2\", \"Topic2\", \"Topic3\", \"Topic3\", \"Topic3\", \"Topic3\", \"Topic3\", \"Topic3\", \"Topic3\", \"Topic3\", \"Topic3\", \"Topic3\", \"Topic3\", \"Topic3\", \"Topic3\", \"Topic3\", \"Topic3\", \"Topic3\", \"Topic3\", \"Topic3\", \"Topic3\", \"Topic3\", \"Topic3\", \"Topic3\", \"Topic3\"], \"Freq\": [2.0, 0.0, 0.0, 0.0, 0.0, 0.0, 0.0, 1.0, 1.0, 1.0, 1.0, 1.0, 1.0, 1.0, 1.0, 1.0, 1.0, 1.0, 1.0, 1.0, 1.0, 1.0, 1.0, 1.868400006337033, 0.7497463761284201, 0.7497463761284201, 0.7491532154818333, 0.7491532154818332, 0.7472172424193181, 0.7472172265879007, 0.7472172002431399, 0.3144597496642256, 0.18881415938395166, 0.1888141579169684, 0.18881415725891781, 0.18881415654856148, 0.18881415575911334, 0.1888141547668914, 0.18906583704962504, 0.18906583105653774, 0.1890658299303374, 0.18906582673400962, 0.18906582466943717, 0.1890658207158061, 0.18833472260715528, 0.18833472260715528, 0.675007969570129, 0.675007969570129, 0.6734668488032937, 0.6734668293675055, 0.6734668221088055, 0.6734668172848675, 0.6734668067149981, 0.6734668009117815, 0.5600908443555941, 0.1701706091400392, 0.170170608147128, 0.17017060730095637, 0.17017060486646585, 0.17017060467630524, 0.1701706040309652, 0.17053532016198464, 0.1705353163553235, 0.1705353100346999, 0.1697545269110009, 0.16975452691100087, 0.16951500229441585, 0.16951500229441585, 0.1757204887932717, 0.6405903692159673, 0.640590368979911, 0.6405903675104712, 0.6405903640263568, 0.6405903637856082, 0.640590361023565, 0.1622004058834876, 0.162200405499067, 0.16220039915618353, 0.16220039183747864, 0.16220038944358783, 0.16220037436160337, 0.16136188155941764, 0.16136188155941764, 0.16259997081626115, 0.16233933223224792, 0.16233931330196158, 0.1623393057579116, 0.16142423052750587, 0.16142423052750582, 0.16114414793652093, 0.16114414793652093, 0.16172019103977736], \"Term\": [\"africa\", \"insect\", \"ethnicity\", \"jungle\", \"tribal\", \"ethnic\", \"hunt\", \"forest\", \"rain\", \"tribalism\", \"tribe\", \"rhino\", \"african\", \"lion\", \"trees\", \"saharan\", \"sub\", \"big\", \"game\", \"tribalistic\", \"savannah\", \"continent\", \"subsaharan\", \"africa\", \"sub\", \"saharan\", \"big\", \"game\", \"tribalistic\", \"savannah\", \"continent\", \"subsaharan\", \"hunt\", \"tribal\", \"ethnic\", \"jungle\", \"ethnicity\", \"insect\", \"trees\", \"lion\", \"rhino\", \"african\", \"tribe\", \"tribalism\", \"forest\", \"rain\", \"forest\", \"rain\", \"tribalism\", \"tribe\", \"rhino\", \"african\", \"lion\", \"trees\", \"subsaharan\", \"hunt\", \"ethnic\", \"tribal\", \"jungle\", \"insect\", \"ethnicity\", \"continent\", \"savannah\", \"tribalistic\", \"big\", \"game\", \"saharan\", \"sub\", \"africa\", \"insect\", \"ethnicity\", \"jungle\", \"tribal\", \"ethnic\", \"hunt\", \"trees\", \"lion\", \"african\", \"rhino\", \"tribe\", \"tribalism\", \"rain\", \"forest\", \"subsaharan\", \"continent\", \"savannah\", \"tribalistic\", \"big\", \"game\", \"saharan\", \"sub\", \"africa\"], \"Total\": [2.0, 0.0, 0.0, 0.0, 0.0, 0.0, 0.0, 1.0, 1.0, 1.0, 1.0, 1.0, 1.0, 1.0, 1.0, 1.0, 1.0, 1.0, 1.0, 1.0, 1.0, 1.0, 1.0, 2.205840686170082, 1.0804055263593568, 1.0804055263593568, 1.08033197292034, 1.08033197292034, 1.0800918582119297, 1.0800918562451858, 1.0800918526373724, 1.0371505648360808, 0.9995751295475559, 0.9995751292442816, 0.999575129191654, 0.9995751289254985, 0.9995751287699894, 0.999575128659164, 1.024733043844894, 1.024733043270603, 1.0247330438766216, 1.0247330431750605, 1.0247330434805306, 1.0247330438807032, 1.0247045737367018, 1.0247045737367018, 1.0247045737367018, 1.0247045737367018, 1.0247330438807032, 1.0247330434805306, 1.0247330438766216, 1.0247330431750605, 1.024733043270603, 1.024733043844894, 1.0371505648360808, 0.9995751295475559, 0.999575129191654, 0.9995751292442816, 0.9995751289254985, 0.999575128659164, 0.9995751287699894, 1.0800918526373724, 1.0800918562451858, 1.0800918582119297, 1.08033197292034, 1.08033197292034, 1.0804055263593568, 1.0804055263593568, 2.205840686170082, 0.999575128659164, 0.9995751287699894, 0.9995751289254985, 0.9995751292442816, 0.999575129191654, 0.9995751295475559, 1.024733043844894, 1.024733043270603, 1.0247330431750605, 1.0247330438766216, 1.0247330434805306, 1.0247330438807032, 1.0247045737367018, 1.0247045737367018, 1.0371505648360808, 1.0800918526373724, 1.0800918562451858, 1.0800918582119297, 1.08033197292034, 1.08033197292034, 1.0804055263593568, 1.0804055263593568, 2.205840686170082], \"loglift\": [23.0, 22.0, 21.0, 20.0, 19.0, 18.0, 17.0, 16.0, 15.0, 14.0, 13.0, 12.0, 11.0, 10.0, 9.0, 8.0, 7.0, 6.0, 5.0, 4.0, 3.0, 2.0, 1.0, 0.7437, 0.5443, 0.5443, 0.5436, 0.5436, 0.5412, 0.5412, 0.5412, -0.2837, -0.7569, -0.7569, -0.7569, -0.7569, -0.7569, -0.7569, -0.7804, -0.7804, -0.7804, -0.7804, -0.7804, -0.7804, -0.7843, -0.7843, 0.6806, 0.6806, 0.6783, 0.6783, 0.6783, 0.6783, 0.6783, 0.6783, 0.4819, -0.6725, -0.6725, -0.6725, -0.6725, -0.6725, -0.6725, -0.7478, -0.7478, -0.7478, -0.7526, -0.7526, -0.7541, -0.7541, -1.4319, 0.8875, 0.8875, 0.8875, 0.8875, 0.8875, 0.8875, -0.5109, -0.5109, -0.5109, -0.5109, -0.5109, -0.5109, -0.5161, -0.5161, -0.5205, -0.5627, -0.5627, -0.5627, -0.5686, -0.5686, -0.5704, -0.5704, -1.2806], \"logprob\": [23.0, 22.0, 21.0, 20.0, 19.0, 18.0, 17.0, 16.0, 15.0, 14.0, 13.0, 12.0, 11.0, 10.0, 9.0, 8.0, 7.0, 6.0, 5.0, 4.0, 3.0, 2.0, 1.0, -1.6841, -2.5972, -2.5972, -2.598, -2.598, -2.6006, -2.6006, -2.6006, -3.4661, -3.9762, -3.9762, -3.9762, -3.9762, -3.9762, -3.9762, -3.9748, -3.9748, -3.9748, -3.9748, -3.9748, -3.9748, -3.9787, -3.9787, -2.5138, -2.5138, -2.5161, -2.5161, -2.5161, -2.5161, -2.5161, -2.5161, -2.7005, -3.8918, -3.8918, -3.8918, -3.8918, -3.8918, -3.8918, -3.8896, -3.8896, -3.8896, -3.8942, -3.8942, -3.8956, -3.8956, -3.8597, -2.3318, -2.3318, -2.3318, -2.3318, -2.3318, -2.3318, -3.7054, -3.7054, -3.7054, -3.7054, -3.7054, -3.7054, -3.7106, -3.7106, -3.7029, -3.7045, -3.7045, -3.7045, -3.7102, -3.7102, -3.7119, -3.7119, -3.7083]}, \"token.table\": {\"Topic\": [1, 2, 1, 1, 3, 3, 2, 1, 3, 3, 3, 2, 2, 2, 1, 1, 1, 2, 2, 3, 2, 1, 2], \"Freq\": [0.9066837929590122, 0.9758639156414562, 0.925641400112238, 0.9258471837910787, 1.000425051400278, 1.000425051822301, 0.9758910281364181, 0.925641400112238, 1.0004250510440735, 1.0004250519332207, 1.0004250516666597, 0.9758639155504701, 0.9758910281364181, 0.9758639149733523, 0.9255783829333978, 0.9258471806984863, 0.9255783829333978, 0.9641801623644177, 0.9758639150035668, 1.0004250513476056, 0.9758639149694655, 0.9258471790126072, 0.975863915350554], \"Term\": [\"africa\", \"african\", \"big\", \"continent\", \"ethnic\", \"ethnicity\", \"forest\", \"game\", \"hunt\", \"insect\", \"jungle\", \"lion\", \"rain\", \"rhino\", \"saharan\", \"savannah\", \"sub\", \"subsaharan\", \"trees\", \"tribal\", \"tribalism\", \"tribalistic\", \"tribe\"]}, \"R\": 23, \"lambda.step\": 0.01, \"plot.opts\": {\"xlab\": \"PC1\", \"ylab\": \"PC2\"}, \"topic.order\": [2, 1, 3]};\n",
       "\n",
       "function LDAvis_load_lib(url, callback){\n",
       "  var s = document.createElement('script');\n",
       "  s.src = url;\n",
       "  s.async = true;\n",
       "  s.onreadystatechange = s.onload = callback;\n",
       "  s.onerror = function(){console.warn(\"failed to load library \" + url);};\n",
       "  document.getElementsByTagName(\"head\")[0].appendChild(s);\n",
       "}\n",
       "\n",
       "if(typeof(LDAvis) !== \"undefined\"){\n",
       "   // already loaded: just create the visualization\n",
       "   !function(LDAvis){\n",
       "       new LDAvis(\"#\" + \"ldavis_el775431123018871846548219172\", ldavis_el775431123018871846548219172_data);\n",
       "   }(LDAvis);\n",
       "}else if(typeof define === \"function\" && define.amd){\n",
       "   // require.js is available: use it to load d3/LDAvis\n",
       "   require.config({paths: {d3: \"https://cdnjs.cloudflare.com/ajax/libs/d3/3.5.5/d3.min\"}});\n",
       "   require([\"d3\"], function(d3){\n",
       "      window.d3 = d3;\n",
       "      LDAvis_load_lib(\"https://cdn.rawgit.com/bmabey/pyLDAvis/files/ldavis.v1.0.0.js\", function(){\n",
       "        new LDAvis(\"#\" + \"ldavis_el775431123018871846548219172\", ldavis_el775431123018871846548219172_data);\n",
       "      });\n",
       "    });\n",
       "}else{\n",
       "    // require.js not available: dynamically load d3 & LDAvis\n",
       "    LDAvis_load_lib(\"https://cdnjs.cloudflare.com/ajax/libs/d3/3.5.5/d3.min.js\", function(){\n",
       "         LDAvis_load_lib(\"https://cdn.rawgit.com/bmabey/pyLDAvis/files/ldavis.v1.0.0.js\", function(){\n",
       "                 new LDAvis(\"#\" + \"ldavis_el775431123018871846548219172\", ldavis_el775431123018871846548219172_data);\n",
       "            })\n",
       "         });\n",
       "}\n",
       "</script>"
      ],
      "text/plain": [
       "<IPython.core.display.HTML object>"
      ]
     },
     "execution_count": 29,
     "metadata": {},
     "output_type": "execute_result"
    }
   ],
   "source": [
    "from pyLDAvis import sklearn as sklearn_lda\n",
    "import pickle \n",
    "import pyLDAvis\n",
    "import os\n",
    "\n",
    "LDAvis_data_filepath = os.path.join('./ldavis_prepared_'+str(number_topics))\n",
    "# # this is a bit time consuming - make the if statement True\n",
    "# # if you want to execute visualization prep yourself\n",
    "#if 1 == 1: \n",
    "LDAvis_prepared = sklearn_lda.prepare(lda, count_data, count_vectorizer)\n",
    "\n",
    "pyLDAvis.display(LDAvis_prepared)\n",
    "    "
   ]
  },
  {
   "cell_type": "markdown",
   "metadata": {},
   "source": [
    "## Part III: Compare LDA Output to Original Input"
   ]
  },
  {
   "cell_type": "markdown",
   "metadata": {},
   "source": [
    "**Observation**:\n",
    "\n",
    "Let's compare our input tropes and the LDA determined tropes.\n",
    "\n",
    "Input:\n"
   ]
  },
  {
   "cell_type": "code",
   "execution_count": 30,
   "metadata": {},
   "outputs": [],
   "source": [
    "conflictArray = {\"war\",\"conflict\",\"armed\",\"weapon\",\"pirate\",\"attack\",\"kill\",\"death\",\"dead\",\"murder\",\"fear\",\"menace\",\"smuggled weapons\",\"smugglers\",\"crime\",\"gang\",\"ransom\",\"execution\",\"shot\",\"death\",\"pain\",\"suffer\",\"civil war\",\"chaos\",\"gun\",\"gunshot\"}\n",
    "generalizationArray = {\"africa\",\"african\", \"subsaharan africa\",\"sub-saharan africa\",\"continent\"}\n",
    "tribalismArray = {\"tribe\", \"tribal\", \"tribalism\", \"tribalistic\", \"ethnic\", \"ethnicity\"}\n",
    "wildlifeArray = {\"savannah\",\"rain forest\",\"jungle\",\"trees\",\"insect\",\"lion\",\"rhino\",\"hunt\",\"big game\"}\n"
   ]
  },
  {
   "cell_type": "markdown",
   "metadata": {},
   "source": [
    "LDA Determined:\n",
    "    "
   ]
  },
  {
   "cell_type": "markdown",
   "metadata": {},
   "source": [
    "Topic #0:\n",
    "rain forest hunt jungle murder ethnic tribal fear death ethnicity tribe weapon war continent menace african tribalism gang dead pirate\n",
    "\n",
    "Topic #1:\n",
    "africa war saharan sub subsaharan game big civil dead tribalism continent gang african menace tribe weapon death ethnicity fear ethnic\n",
    "\n",
    "Topic #2:\n",
    "weapons smuggled shot suffer tribalistic gunshot crime smugglers gun ransom execution pirate war menace tribalism gang continent dead african weapon\n",
    "\n",
    "Topic #3:\n",
    "attack rhino kill armed insect conflict pain trees lion savannah chaos war menace african gang tribalism continent dead tribe weapon\n",
    "Maybe we could name:\n",
    "\n",
    "* Topic 0 = Wildlife\n",
    "* Topic 1 = Generalization\n",
    "* Topic 2 = War/conflict\n",
    "* Topic 3 = Wildlife + Conflict\n",
    "\n",
    "**These four categories have high overlap. Consider 3 categories:**\n",
    "\n",
    "Topic #0:\n",
    "ethnicity gun hunt kill tribalism pirate menace ransom crime tribe african trees pain chaos weapon armed fear shot continent tribal\n",
    "\n",
    "Topic #1:\n",
    "war civil big game forest rain murder insect lion tribalistic conflict gang dead savannah gunshot shot tribal continent fear armed\n",
    "\n",
    "Topic #2:\n",
    "africa saharan sub subsaharan smuggled weapons death rhino suffer smugglers attack ethnic jungle execution chaos weapon armed fear tribal continent\n",
    "\n",
    "Maybe we could name:\n",
    "\n",
    "* Topic 0 = War\n",
    "* Topic 1 = Wildlife\n",
    "* Topic 2 = Generalization"
   ]
  },
  {
   "cell_type": "markdown",
   "metadata": {},
   "source": [
    "**Conclusion**\n",
    "\n",
    "We recommend the use of three tropes instead of 4 since the words seem to overlap."
   ]
  },
  {
   "cell_type": "markdown",
   "metadata": {},
   "source": [
    "~~ End of Notebook ~~"
   ]
  }
 ],
 "metadata": {
  "kernelspec": {
   "display_name": "Python 3 (ipykernel)",
   "language": "python",
   "name": "python3"
  },
  "language_info": {
   "codemirror_mode": {
    "name": "ipython",
    "version": 3
   },
   "file_extension": ".py",
   "mimetype": "text/x-python",
   "name": "python",
   "nbconvert_exporter": "python",
   "pygments_lexer": "ipython3",
   "version": "3.9.13"
  }
 },
 "nbformat": 4,
 "nbformat_minor": 2
}
